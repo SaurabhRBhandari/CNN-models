{
 "cells": [
  {
   "cell_type": "markdown",
   "metadata": {},
   "source": [
    "Making a LeNet 5 CNN Model on Fashion MNIST Dataset using Pytorch"
   ]
  },
  {
   "cell_type": "code",
   "execution_count": 1,
   "metadata": {},
   "outputs": [],
   "source": [
    "import torch\n",
    "from torch import nn\n",
    "from torch.utils.data import DataLoader\n",
    "from torchvision import datasets\n",
    "from torchvision.transforms import ToTensor\n",
    "from torch import optim\n",
    "from torchsummary import summary\n"
   ]
  },
  {
   "cell_type": "code",
   "execution_count": 2,
   "metadata": {},
   "outputs": [],
   "source": [
    "training=datasets.FashionMNIST(root=\"data\",train=True,download=True,transform=ToTensor())\n",
    "testing=datasets.FashionMNIST(root=\"data\",train=False,download=True,transform=ToTensor())"
   ]
  },
  {
   "cell_type": "code",
   "execution_count": 3,
   "metadata": {},
   "outputs": [],
   "source": [
    "train_dataloader=DataLoader(training,batch_size=64)\n",
    "test_dataloader=DataLoader(testing,batch_size=64)"
   ]
  },
  {
   "cell_type": "code",
   "execution_count": 4,
   "metadata": {},
   "outputs": [],
   "source": [
    "class NeuralNetwork(nn.Module):\n",
    "    def __init__(self):\n",
    "        super(NeuralNetwork,self).__init__()\n",
    "        self.c1=nn.Conv2d(in_channels=1,out_channels=6,kernel_size=5,stride=1,padding=2)\n",
    "        self.s2=nn.AvgPool2d(kernel_size=2,stride=2)\n",
    "        self.c3=nn.Conv2d(in_channels=6,out_channels=16,kernel_size=5,stride=1,padding=0)\n",
    "        self.s4=nn.AvgPool2d(kernel_size=2,stride=2)\n",
    "        self.c5=nn.Conv2d(in_channels=16,out_channels=120,kernel_size=5,stride=1)\n",
    "        self.flatten= nn.Flatten(start_dim=1)\n",
    "        self.l1=nn.Linear(in_features=120,out_features=84)\n",
    "        self.l2=nn.Linear(in_features=84,out_features=10)\n",
    "        self.act=nn.Tanh()\n",
    "    def forward(self,x):\n",
    "        x=self.c1(x)\n",
    "        x=self.act(x)\n",
    "        x=self.s2(x)\n",
    "        x=self.c3(x)\n",
    "        x=self.act(x)\n",
    "        x=self.s4(x)\n",
    "        x=self.c5(x)\n",
    "        x=self.act(x)\n",
    "        x=self.flatten(x)\n",
    "        x=self.l1(x)\n",
    "        x=self.act(x)\n",
    "        x=self.l2(x)\n",
    "        return x\n",
    "        \n",
    "    \n",
    "\n"
   ]
  },
  {
   "cell_type": "code",
   "execution_count": 5,
   "metadata": {},
   "outputs": [],
   "source": [
    "device=torch.device('cuda' if torch.cuda.is_available() else 'cpu')"
   ]
  },
  {
   "cell_type": "code",
   "execution_count": 6,
   "metadata": {},
   "outputs": [],
   "source": [
    "model=NeuralNetwork().to(device)\n",
    "learning_rate=0.001\n"
   ]
  },
  {
   "cell_type": "code",
   "execution_count": 7,
   "metadata": {},
   "outputs": [
    {
     "name": "stdout",
     "output_type": "stream",
     "text": [
      "----------------------------------------------------------------\n",
      "        Layer (type)               Output Shape         Param #\n",
      "================================================================\n",
      "            Conv2d-1            [-1, 6, 28, 28]             156\n",
      "              Tanh-2            [-1, 6, 28, 28]               0\n",
      "         AvgPool2d-3            [-1, 6, 14, 14]               0\n",
      "            Conv2d-4           [-1, 16, 10, 10]           2,416\n",
      "              Tanh-5           [-1, 16, 10, 10]               0\n",
      "         AvgPool2d-6             [-1, 16, 5, 5]               0\n",
      "            Conv2d-7            [-1, 120, 1, 1]          48,120\n",
      "              Tanh-8            [-1, 120, 1, 1]               0\n",
      "           Flatten-9                  [-1, 120]               0\n",
      "           Linear-10                   [-1, 84]          10,164\n",
      "             Tanh-11                   [-1, 84]               0\n",
      "           Linear-12                   [-1, 10]             850\n",
      "================================================================\n",
      "Total params: 61,706\n",
      "Trainable params: 61,706\n",
      "Non-trainable params: 0\n",
      "----------------------------------------------------------------\n",
      "Input size (MB): 0.00\n",
      "Forward/backward pass size (MB): 0.11\n",
      "Params size (MB): 0.24\n",
      "Estimated Total Size (MB): 0.35\n",
      "----------------------------------------------------------------\n"
     ]
    }
   ],
   "source": [
    "summary(model,input_size=(1,28,28))"
   ]
  },
  {
   "cell_type": "code",
   "execution_count": 8,
   "metadata": {},
   "outputs": [],
   "source": [
    "loss_fun=nn.CrossEntropyLoss()\n",
    "optimiser=torch.optim.Adam(model.parameters(),lr=learning_rate)"
   ]
  },
  {
   "cell_type": "code",
   "execution_count": 10,
   "metadata": {},
   "outputs": [
    {
     "name": "stdout",
     "output_type": "stream",
     "text": [
      "0.830133318901062\n",
      "0.8588833212852478\n",
      "0.8701666593551636\n",
      "0.8791166543960571\n",
      "0.8860999941825867\n",
      "0.8914166688919067\n",
      "0.8973666429519653\n",
      "0.9023833274841309\n",
      "0.9057333469390869\n",
      "0.9092000126838684\n",
      "0.9120500087738037\n",
      "0.9146333336830139\n",
      "0.9176166653633118\n",
      "0.9215166568756104\n"
     ]
    }
   ],
   "source": [
    "for i in range(100):\n",
    "    for i,(data,target) in enumerate(train_dataloader):\n",
    "        data=data.to(device)\n",
    "        target=target.to(device)\n",
    "        scores=model(data)\n",
    "        loss=loss_fun(scores,target)\n",
    "        optimiser.zero_grad()\n",
    "        loss.backward()\n",
    "        optimiser.step()\n",
    "    accuracy_check(train_dataloader,model)\n",
    "        \n",
    "\n"
   ]
  },
  {
   "cell_type": "code",
   "execution_count": 9,
   "metadata": {},
   "outputs": [],
   "source": [
    "def accuracy_check(loader,model):\n",
    "    correct=0\n",
    "    total=0\n",
    "    model.eval()\n",
    "    with torch.no_grad():\n",
    "        for (x,y) in (loader):\n",
    "            x=x.to(device=device)\n",
    "            y=y.to(device=device)\n",
    "            scores=model(x)\n",
    "            scores=nn.functional.softmax(scores,dim=1)\n",
    "            _,predictions=scores.max(1)\n",
    "            correct+=(predictions==y).sum()\n",
    "            total+= predictions.size(0)\n",
    "    print(float(correct/total))"
   ]
  }
 ],
 "metadata": {
  "interpreter": {
   "hash": "fc1bfebef4bde096bcca5b7212ac51dad80d152ee96bf3e05c42062f71dce39e"
  },
  "kernelspec": {
   "display_name": "Python 3.9.5 ('base')",
   "language": "python",
   "name": "python3"
  },
  "language_info": {
   "codemirror_mode": {
    "name": "ipython",
    "version": 3
   },
   "file_extension": ".py",
   "mimetype": "text/x-python",
   "name": "python",
   "nbconvert_exporter": "python",
   "pygments_lexer": "ipython3",
   "version": "3.9.10"
  },
  "orig_nbformat": 4
 },
 "nbformat": 4,
 "nbformat_minor": 2
}
